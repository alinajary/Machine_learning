{
  "nbformat": 4,
  "nbformat_minor": 0,
  "metadata": {
    "colab": {
      "name": "MLEx2.Bayesian_Learning.ipynb",
      "provenance": []
    },
    "kernelspec": {
      "name": "python3",
      "display_name": "Python 3"
    }
  },
  "cells": [
    {
      "cell_type": "markdown",
      "metadata": {
        "id": "J2E9dsLhnNE3"
      },
      "source": [
        "# Machine Learning - Exercise 2 \n",
        "# Bayesian Learning\n",
        "\n",
        "See description of the example in Russel & Norvig: Artificial Intelligence: A modern approach. Chap. 20."
      ]
    },
    {
      "cell_type": "code",
      "metadata": {
        "id": "HQOhol3QnEFY"
      },
      "source": [
        "import numpy as np"
      ],
      "execution_count": null,
      "outputs": []
    },
    {
      "cell_type": "markdown",
      "metadata": {
        "id": "9k1Ue3Qvnld7"
      },
      "source": [
        "## Prior knowledge"
      ]
    },
    {
      "cell_type": "code",
      "metadata": {
        "id": "7oRapmCtnpbS",
        "colab": {
          "base_uri": "https://localhost:8080/",
          "height": 87
        },
        "outputId": "5d84e15a-7ae8-474d-e144-7ee1756b37ce"
      },
      "source": [
        "PH = np.array([0.1, 0.2, 0.4, 0.2, 0.1])\n",
        "\n",
        "PdH = {}\n",
        "PdH['l'] = np.array([0.0, 0.25, 0.5, 0.75, 1.0])\n",
        "PdH['c'] = 1 - PdH['l']\n",
        "\n",
        "print('P(H) = %s' %(str(PH)))\n",
        "print('P(l|H) = %s' %(str(PdH['l'])))\n",
        "print('P(c|H) = %s' %(str(PdH['c'])))\n",
        "\n",
        "cP = PdH['l'] * PH\n",
        "Pl = np.sum(cP)\n",
        "print('P(l) = sum %s = %.3f' %(str(cP),Pl))"
      ],
      "execution_count": null,
      "outputs": [
        {
          "output_type": "stream",
          "text": [
            "P(H) = [0.1 0.2 0.4 0.2 0.1]\n",
            "P(l|H) = [0.   0.25 0.5  0.75 1.  ]\n",
            "P(c|H) = [1.   0.75 0.5  0.25 0.  ]\n",
            "P(l) = sum [0.   0.05 0.2  0.15 0.1 ] = 0.500\n"
          ],
          "name": "stdout"
        }
      ]
    },
    {
      "cell_type": "markdown",
      "metadata": {
        "id": "pSl9YJgZniT6"
      },
      "source": [
        "## Dataset"
      ]
    },
    {
      "cell_type": "code",
      "metadata": {
        "id": "1DxGwfxxnaq9"
      },
      "source": [
        "D = ['l','l','l','l','l']"
      ],
      "execution_count": null,
      "outputs": []
    },
    {
      "cell_type": "markdown",
      "metadata": {
        "id": "JyMvUpo9nfH7"
      },
      "source": [
        "## Bayesian Learning"
      ]
    },
    {
      "cell_type": "code",
      "metadata": {
        "id": "hdLoFtqYnbo_",
        "colab": {
          "base_uri": "https://localhost:8080/",
          "height": 105
        },
        "outputId": "8dfb3643-86ab-47ce-b6c5-ce3fbeb8ea3a"
      },
      "source": [
        "P = PH\n",
        "db = ''\n",
        "np.set_printoptions(formatter={'float': '{: 0.3f}'.format})\n",
        "for d in D:\n",
        "    P = P * PdH[d]\n",
        "    P = P / np.sum(P)\n",
        "    db = db+d\n",
        "    print('P(H|%s)  \\t= %s' %(db,str(P)))"
      ],
      "execution_count": null,
      "outputs": [
        {
          "output_type": "stream",
          "text": [
            "P(H|l)  \t= [ 0.000  0.100  0.400  0.300  0.200]\n",
            "P(H|ll)  \t= [ 0.000  0.038  0.308  0.346  0.308]\n",
            "P(H|lll)  \t= [ 0.000  0.013  0.211  0.355  0.421]\n",
            "P(H|llll)  \t= [ 0.000  0.004  0.132  0.335  0.529]\n",
            "P(H|lllll)  \t= [ 0.000  0.001  0.078  0.296  0.624]\n"
          ],
          "name": "stdout"
        }
      ]
    },
    {
      "cell_type": "markdown",
      "metadata": {
        "id": "MlBCGzO_o7pj"
      },
      "source": [
        "## MAP hypothesis"
      ]
    },
    {
      "cell_type": "code",
      "metadata": {
        "id": "JWXGLTDKpAuH",
        "colab": {
          "base_uri": "https://localhost:8080/",
          "height": 34
        },
        "outputId": "0d08fad9-4d85-43ca-db1f-85a4c6ad4d36"
      },
      "source": [
        "i = np.argmax(P)\n",
        "print('MAP hypothesis: h%d' %(i+1))"
      ],
      "execution_count": null,
      "outputs": [
        {
          "output_type": "stream",
          "text": [
            "MAP hypothesis: h5\n"
          ],
          "name": "stdout"
        }
      ]
    },
    {
      "cell_type": "markdown",
      "metadata": {
        "id": "i9ydVfqFrUq-"
      },
      "source": [
        "## Prediction\n",
        "\n",
        "Probability that next candy is lime\n",
        "\n",
        "Using MAP hypothesis"
      ]
    },
    {
      "cell_type": "code",
      "metadata": {
        "id": "25gsB_O1pRe6",
        "colab": {
          "base_uri": "https://localhost:8080/",
          "height": 34
        },
        "outputId": "a63e5d0b-995e-41ed-d684-e0b0cc3085e5"
      },
      "source": [
        "PlhMAP = PdH['l'][i]\n",
        "print('P(l|h_MAP) = %.3f' %(PlhMAP))"
      ],
      "execution_count": null,
      "outputs": [
        {
          "output_type": "stream",
          "text": [
            "P(l|h_MAP) = 1.000\n"
          ],
          "name": "stdout"
        }
      ]
    },
    {
      "cell_type": "markdown",
      "metadata": {
        "id": "mvvZjlm4rmwW"
      },
      "source": [
        "Using all hypotheses"
      ]
    },
    {
      "cell_type": "code",
      "metadata": {
        "id": "s3T5zb35pWjq",
        "colab": {
          "base_uri": "https://localhost:8080/",
          "height": 34
        },
        "outputId": "ec4ade4a-898b-4a88-c1c5-e9547921c0d8"
      },
      "source": [
        "cP = PdH['l'] * P\n",
        "PlD = np.sum(cP)\n",
        "print('P(l|D) = sum %s = %.3f' %(str(cP),PlD))"
      ],
      "execution_count": null,
      "outputs": [
        {
          "output_type": "stream",
          "text": [
            "P(l|D) = sum [ 0.000  0.000  0.039  0.222  0.624] = 0.886\n"
          ],
          "name": "stdout"
        }
      ]
    }
  ]
}