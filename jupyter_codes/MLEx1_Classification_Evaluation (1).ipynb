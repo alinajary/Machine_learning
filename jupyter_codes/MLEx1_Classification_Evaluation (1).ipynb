{
  "nbformat": 4,
  "nbformat_minor": 0,
  "metadata": {
    "colab": {
      "name": "MLEx1.Classification_Evaluation",
      "provenance": [],
      "collapsed_sections": [],
      "toc_visible": true
    },
    "kernelspec": {
      "name": "python3",
      "display_name": "Python 3"
    },
    "accelerator": "GPU"
  },
  "cells": [
    {
      "cell_type": "markdown",
      "metadata": {
        "id": "Z3GYzNWONtju"
      },
      "source": [
        "# Machine Learning - Exercise 1\n",
        "# Classification Evaluation\n",
        "\n",
        "This exercise illustrates examples of evaluation of solutions of classification problems."
      ]
    },
    {
      "cell_type": "markdown",
      "metadata": {
        "id": "eDEJU1RwoIlv"
      },
      "source": [
        "##Import \n",
        "\n",
        "Import libraries that contains the implementations of the functions used in the rest of the program.\n",
        "\n"
      ]
    },
    {
      "cell_type": "code",
      "metadata": {
        "id": "BSKuPnIXNoq2",
        "colab": {
          "base_uri": "https://localhost:8080/",
          "height": 34
        },
        "outputId": "9a7c9bd6-4a74-4588-c8b2-90ccf2a6a102"
      },
      "source": [
        "import random\n",
        "import numpy as np\n",
        "import sklearn.metrics \n",
        "from sklearn import datasets\n",
        "from sklearn.model_selection import train_test_split, cross_val_score, ShuffleSplit, GridSearchCV\n",
        "from sklearn import svm\n",
        "from sklearn import tree\n",
        "from sklearn.naive_bayes import GaussianNB\n",
        "from sklearn.linear_model import LogisticRegression\n",
        "from sklearn.metrics import classification_report, confusion_matrix\n",
        "from sklearn.utils.multiclass import unique_labels\n",
        "import matplotlib.pyplot as plt\n",
        "\n",
        "def plot_confusion_matrix(y_true, y_pred, classes,\n",
        "                          normalize=False,\n",
        "                          title=None,\n",
        "                          cmap=plt.cm.Blues):\n",
        "    \"\"\"\n",
        "    This function prints and plots the confusion matrix.\n",
        "    Normalization can be applied by setting `normalize=True`.\n",
        "    \"\"\"\n",
        "    if not title:\n",
        "        if normalize:\n",
        "            title = 'Normalized confusion matrix'\n",
        "        else:\n",
        "            title = 'Confusion matrix, without normalization'\n",
        "\n",
        "    # Compute confusion matrix\n",
        "    cm = confusion_matrix(y_true, y_pred)\n",
        "    # Only use the labels that appear in the data\n",
        "    classes = classes[unique_labels(y_true, y_pred)]\n",
        "    if normalize:\n",
        "        cm = cm.astype('float') / cm.sum(axis=1)[:, np.newaxis]\n",
        "        #print(\"Normalized confusion matrix\")\n",
        "    else:\n",
        "        pass\n",
        "        #print('Confusion matrix, without normalization')\n",
        "\n",
        "    #print(cm)\n",
        "\n",
        "    fig, ax = plt.subplots()\n",
        "    im = ax.imshow(cm, interpolation='nearest', cmap=cmap)\n",
        "    ax.figure.colorbar(im, ax=ax)\n",
        "    # We want to show all ticks...\n",
        "    ax.set(xticks=np.arange(cm.shape[1]),\n",
        "           yticks=np.arange(cm.shape[0]),\n",
        "           # ... and label them with the respective list entries\n",
        "           xticklabels=classes, yticklabels=classes,\n",
        "           title=title,\n",
        "           ylabel='True label',\n",
        "           xlabel='Predicted label')\n",
        "\n",
        "    ax.set_ylim(len(classes)-0.5, -0.5)\n",
        "\n",
        "    # Rotate the tick labels and set their alignment.\n",
        "    plt.setp(ax.get_xticklabels(), rotation=45, ha=\"right\",\n",
        "             rotation_mode=\"anchor\")\n",
        "\n",
        "    # Loop over data dimensions and create text annotations.\n",
        "    fmt = '.2f' if normalize else 'd'\n",
        "    thresh = cm.max() / 2.\n",
        "    for i in range(cm.shape[0]):\n",
        "        for j in range(cm.shape[1]):\n",
        "            ax.text(j, i, format(cm[i, j], fmt),\n",
        "                    ha=\"center\", va=\"center\",\n",
        "                    color=\"white\" if cm[i, j] > thresh else \"black\")\n",
        "    fig.tight_layout()\n",
        "    return ax\n",
        "\n",
        "print(\"Libraries imported.\")"
      ],
      "execution_count": null,
      "outputs": [
        {
          "output_type": "stream",
          "text": [
            "Libraries imported.\n"
          ],
          "name": "stdout"
        }
      ]
    },
    {
      "cell_type": "markdown",
      "metadata": {
        "id": "KaeLRpWIfO1m"
      },
      "source": [
        "## Load data\n",
        "\n",
        "Load training data.\n",
        "\n",
        "Choose one of the datasets described in the next subsections.\n",
        "\n",
        "More details on these datasets are available in https://scikit-learn.org/stable/datasets/index.html\n"
      ]
    },
    {
      "cell_type": "markdown",
      "metadata": {
        "id": "w8_6LSAHa6Vb"
      },
      "source": [
        "### IRIS dataset"
      ]
    },
    {
      "cell_type": "code",
      "metadata": {
        "id": "0nHa8mpWbAEp"
      },
      "source": [
        "DB = datasets.load_iris()\n",
        "dataset_name = \"Iris\"\n",
        "class_names = np.array([str(c) for c in DB.target_names])\n",
        "X_all = DB.data\n",
        "y_all = DB.target"
      ],
      "execution_count": null,
      "outputs": []
    },
    {
      "cell_type": "markdown",
      "metadata": {
        "id": "rVA8XiMvbDBc"
      },
      "source": [
        "### Wine dataset"
      ]
    },
    {
      "cell_type": "code",
      "metadata": {
        "id": "JkazgPcGbJhT"
      },
      "source": [
        "DB = datasets.load_wine()\n",
        "dataset_name = \"Wines\"\n",
        "class_names = np.array([str(c) for c in DB.target_names])\n",
        "X_all = DB.data\n",
        "y_all = DB.target"
      ],
      "execution_count": null,
      "outputs": []
    },
    {
      "cell_type": "markdown",
      "metadata": {
        "id": "6jVsMFO3bNji"
      },
      "source": [
        "###Digits dataset"
      ]
    },
    {
      "cell_type": "code",
      "metadata": {
        "id": "Virn0LFUbSVn"
      },
      "source": [
        "DB = datasets.load_digits()\n",
        "dataset_name = \"Digits\"\n",
        "class_names = np.array([str(c) for c in DB.target_names])\n",
        "X_all = DB.data\n",
        "y_all = DB.target"
      ],
      "execution_count": null,
      "outputs": []
    },
    {
      "cell_type": "markdown",
      "metadata": {
        "id": "QvbEt6KwfSVm"
      },
      "source": [
        "###Unbalanced Digits dataset\n",
        "\n",
        "Adapted from the Digits dataset with digit 0 mapped to class '0' and all other digits mapped to class '1'"
      ]
    },
    {
      "cell_type": "code",
      "metadata": {
        "id": "c4TpTJFTcOYM",
        "colab": {
          "base_uri": "https://localhost:8080/",
          "height": 34
        },
        "outputId": "6eaf5c89-13b8-4e58-9e30-fc3bd81dab9a"
      },
      "source": [
        "# Binary Digits unbalanced\n",
        "DB = datasets.load_digits()\n",
        "dataset_name = \"Digits_01_unbalanced\"\n",
        "class_names = np.array([\"0\",\"1\"])\n",
        "X_all = DB.data\n",
        "y_all = DB.target\n",
        "cont = 0\n",
        "for i in range(0,len(y_all)):\n",
        "  if y_all[i] != 0:\n",
        "    y_all[i] = 1\n",
        "    cont += 1\n",
        "print(\"Percentage of non-zero digits: %f\" %(cont/len(y_all)))"
      ],
      "execution_count": null,
      "outputs": [
        {
          "output_type": "stream",
          "text": [
            "Percentage of non-zero digits: 0.900946\n"
          ],
          "name": "stdout"
        }
      ]
    },
    {
      "cell_type": "markdown",
      "metadata": {
        "id": "w-FjcBe_bVSm"
      },
      "source": [
        "###Summary of the dataset\n",
        "\n",
        "Print some information about the dataset.\n",
        "\n",
        "Data structures\n",
        "\n",
        "    Input X: array ( n x m )\n",
        "    Output Y: array ( n x 1 )"
      ]
    },
    {
      "cell_type": "code",
      "metadata": {
        "id": "7kECuF5cgxxW",
        "colab": {
          "base_uri": "https://localhost:8080/",
          "height": 119
        },
        "outputId": "9dc7b385-f802-42fd-dfe0-097ba145be1c"
      },
      "source": [
        "print(\"Dataset: %s\" %(dataset_name))\n",
        "print(\"Input shape: %s\" %str(X_all.shape))\n",
        "print(\"Output shape: %s\" %str(y_all.shape))\n",
        "print(\"Number of attributes/features: %d\" %(X_all.shape[1]))\n",
        "print(\"Number of classes: %d %s\" %(len(class_names), str(class_names)))\n",
        "print(\"Number of samples: %d\" %(X_all.shape[0]))"
      ],
      "execution_count": null,
      "outputs": [
        {
          "output_type": "stream",
          "text": [
            "Dataset: Digits_01_unbalanced\n",
            "Input shape: (1797, 64)\n",
            "Output shape: (1797,)\n",
            "Number of attributes/features: 64\n",
            "Number of classes: 2 ['0' '1']\n",
            "Number of samples: 1797\n"
          ],
          "name": "stdout"
        }
      ]
    },
    {
      "cell_type": "markdown",
      "metadata": {
        "id": "aJrwXXvsrEHn"
      },
      "source": [
        "### Show an example\n",
        "\n",
        "Display a random sample."
      ]
    },
    {
      "cell_type": "code",
      "metadata": {
        "id": "-m2VMd9YrSBS",
        "colab": {
          "base_uri": "https://localhost:8080/",
          "height": 119
        },
        "outputId": "89b4ce50-0ea7-4252-e14c-2528acda6fc5"
      },
      "source": [
        "id = random.randrange(0,X_all.shape[0])\n",
        "\n",
        "print(\"x%d = %r\" %(id,X_all[id]))\n",
        "print(\"y%d = %r ['%s']\" %(id,y_all[id],class_names[y_all[id]]))"
      ],
      "execution_count": null,
      "outputs": [
        {
          "output_type": "stream",
          "text": [
            "x663 = array([ 0.,  0.,  2., 11., 16., 16., 16.,  4.,  0.,  0.,  5., 11.,  8.,\n",
            "        8., 16.,  1.,  0.,  0.,  0.,  0.,  0., 14.,  6.,  0.,  0.,  0.,\n",
            "        2., 10., 13., 16., 13.,  0.,  0.,  0., 12., 16., 16.,  9.,  2.,\n",
            "        0.,  0.,  0.,  2.,  5., 14.,  0.,  0.,  0.,  0.,  0.,  0., 11.,\n",
            "        9.,  0.,  0.,  0.,  0.,  0.,  0., 16.,  6.,  0.,  0.,  0.])\n",
            "y663 = 1 ['1']\n"
          ],
          "name": "stdout"
        }
      ]
    },
    {
      "cell_type": "markdown",
      "metadata": {
        "id": "eJ2bbJe8txnH"
      },
      "source": [
        "##Split data\n",
        "\n",
        "Split the data set in training set `X_train`, `y_train` and test set `X_test`, `y_test`, using `test_size` to denote percentage of samples in the test set.\n",
        "\n",
        "Note:\n",
        "`random_state` parameter is used as random seed. Change this value to generate a different split.\n",
        "\n",
        "IMPORTANT: solution will depend on this data split.\n"
      ]
    },
    {
      "cell_type": "code",
      "metadata": {
        "id": "IWKwFR-It1-D",
        "colab": {
          "base_uri": "https://localhost:8080/",
          "height": 289
        },
        "outputId": "bd9aa499-99f7-4a1f-d851-94ff7ff05ff3"
      },
      "source": [
        "X_train, X_test, y_train, y_test = train_test_split(X_all, y_all, test_size=0.333, \n",
        "                                                    random_state=117)\n",
        "\n",
        "print(\"Size of training set: %d\" %X_train.shape[0])\n",
        "print(\"Size of test set: %d\" %X_test.shape[0])\n",
        "\n",
        "print('First training sample')\n",
        "id = 0\n",
        "print(\"    x_train_%d = %r\" %(id,X_train[id]))\n",
        "print(\"    y_train_%d = %r ['%s']\" %(id,y_train[id],class_names[y_train[id]]))\n",
        "\n",
        "print('First test sample')\n",
        "id = 0\n",
        "print(\"    x_test_%d = %r\" %(id,X_test[id]))\n",
        "print(\"    y_test_%d = %r ['%s']\" %(id,y_test[id],class_names[y_test[id]]))\n"
      ],
      "execution_count": null,
      "outputs": [
        {
          "output_type": "stream",
          "text": [
            "Size of training set: 1198\n",
            "Size of test set: 599\n",
            "First training sample\n",
            "    x_train_0 = array([ 0.,  0.,  1., 13.,  4.,  0.,  0.,  0.,  0.,  0.,  5., 15.,  2.,\n",
            "        0.,  0.,  0.,  0.,  0., 12.,  7.,  0.,  0.,  0.,  0.,  0.,  0.,\n",
            "       14.,  6.,  0.,  0.,  0.,  0.,  0.,  0., 16., 12., 15., 15.,  7.,\n",
            "        0.,  0.,  0., 14., 14.,  6.,  4., 14.,  1.,  0.,  0.,  9., 14.,\n",
            "        3.,  4., 14.,  2.,  0.,  0.,  1.,  7., 14., 16., 11.,  0.])\n",
            "    y_train_0 = 1 ['1']\n",
            "First test sample\n",
            "    x_test_0 = array([ 0.,  0.,  0.,  8., 13.,  0.,  0.,  0.,  0.,  0.,  0., 14.,  6.,\n",
            "        0.,  0.,  0.,  0.,  0.,  6., 12.,  0.,  0.,  0.,  0.,  0.,  0.,\n",
            "        8., 13.,  8.,  2.,  0.,  0.,  0.,  0., 13., 16., 13., 14.,  4.,\n",
            "        0.,  0.,  0., 11.,  8.,  2.,  3., 13.,  0.,  0.,  0.,  7., 11.,\n",
            "        5., 12., 11.,  0.,  0.,  0.,  1., 11., 12.,  4.,  0.,  0.])\n",
            "    y_test_0 = 1 ['1']\n"
          ],
          "name": "stdout"
        }
      ]
    },
    {
      "cell_type": "markdown",
      "metadata": {
        "id": "R6DMvR8TzJiK"
      },
      "source": [
        "##Create a Model \n",
        "\n",
        "Define the model that will be used for learning.\n",
        "\n",
        "Create an instance of a class implementing a classification method.\n",
        "\n"
      ]
    },
    {
      "cell_type": "markdown",
      "metadata": {
        "id": "6wF3ZBlifcdK"
      },
      "source": [
        "**Decision Trees**\n",
        "\n",
        "https://scikit-learn.org/stable/modules/generated/sklearn.tree.DecisionTreeClassifier.html#sklearn.tree.DecisionTreeClassifier"
      ]
    },
    {
      "cell_type": "code",
      "metadata": {
        "id": "FQekMBE3fhWm"
      },
      "source": [
        "model = tree.DecisionTreeClassifier()"
      ],
      "execution_count": null,
      "outputs": []
    },
    {
      "cell_type": "markdown",
      "metadata": {
        "id": "y7dPHeFNH_mI"
      },
      "source": [
        "**Support Vector Machines**\n",
        "\n",
        "https://scikit-learn.org/stable/modules/generated/sklearn.svm.SVC.html?highlight=svm%20svc#sklearn.svm.SVC"
      ]
    },
    {
      "cell_type": "code",
      "metadata": {
        "id": "FDioTwgArEH7"
      },
      "source": [
        "model = svm.SVC(kernel='linear', C=1)\n"
      ],
      "execution_count": null,
      "outputs": []
    },
    {
      "cell_type": "markdown",
      "metadata": {
        "id": "T9EuWXAhGxw-"
      },
      "source": [
        "Probabilistic generative model \n",
        "\n",
        "**Gaussian Naive Bayes**\n",
        "\n",
        "https://scikit-learn.org/stable/modules/generated/sklearn.naive_bayes.GaussianNB.html?highlight=gaussiannb#sklearn.naive_bayes.GaussianNB\n"
      ]
    },
    {
      "cell_type": "code",
      "metadata": {
        "id": "Ul0R20-HGPjD"
      },
      "source": [
        "model = GaussianNB()\n"
      ],
      "execution_count": null,
      "outputs": []
    },
    {
      "cell_type": "markdown",
      "metadata": {
        "id": "21sijhYOHa0q"
      },
      "source": [
        "Probabilistic discriminative model\n",
        "\n",
        "**Logistic regression**\n",
        "\n",
        "https://scikit-learn.org/stable/modules/generated/sklearn.linear_model.LogisticRegression.html?highlight=logisticregression#sklearn.linear_model.LogisticRegression\n"
      ]
    },
    {
      "cell_type": "code",
      "metadata": {
        "id": "cFR5WkyKHzB4"
      },
      "source": [
        "model = LogisticRegression()"
      ],
      "execution_count": null,
      "outputs": []
    },
    {
      "cell_type": "markdown",
      "metadata": {
        "id": "PmorfnRhHaw8"
      },
      "source": [
        "## Fit the model\n",
        "\n",
        "Finding a solution for this model given the data set.\n",
        "The solution is stored in the model object.\n"
      ]
    },
    {
      "cell_type": "code",
      "metadata": {
        "id": "vaBApsjDHxrY",
        "colab": {
          "base_uri": "https://localhost:8080/",
          "height": 238
        },
        "outputId": "f1763e03-8caf-4ab8-8bf2-dec90c2e3b8e"
      },
      "source": [
        "model.fit(X_train, y_train)"
      ],
      "execution_count": null,
      "outputs": [
        {
          "output_type": "stream",
          "text": [
            "/usr/local/lib/python3.6/dist-packages/sklearn/linear_model/_logistic.py:940: ConvergenceWarning: lbfgs failed to converge (status=1):\n",
            "STOP: TOTAL NO. of ITERATIONS REACHED LIMIT.\n",
            "\n",
            "Increase the number of iterations (max_iter) or scale the data as shown in:\n",
            "    https://scikit-learn.org/stable/modules/preprocessing.html\n",
            "Please also refer to the documentation for alternative solver options:\n",
            "    https://scikit-learn.org/stable/modules/linear_model.html#logistic-regression\n",
            "  extra_warning_msg=_LOGISTIC_SOLVER_CONVERGENCE_MSG)\n"
          ],
          "name": "stderr"
        },
        {
          "output_type": "execute_result",
          "data": {
            "text/plain": [
              "LogisticRegression(C=1.0, class_weight=None, dual=False, fit_intercept=True,\n",
              "                   intercept_scaling=1, l1_ratio=None, max_iter=100,\n",
              "                   multi_class='auto', n_jobs=None, penalty='l2',\n",
              "                   random_state=None, solver='lbfgs', tol=0.0001, verbose=0,\n",
              "                   warm_start=False)"
            ]
          },
          "metadata": {
            "tags": []
          },
          "execution_count": 13
        }
      ]
    },
    {
      "cell_type": "markdown",
      "metadata": {
        "id": "MEiAh78A24DZ"
      },
      "source": [
        "##Predict on test set\n",
        "\n",
        "Use test set for prediction."
      ]
    },
    {
      "cell_type": "code",
      "metadata": {
        "id": "ZsEXCZ0A20C8"
      },
      "source": [
        "y_pred = model.predict(X_test)"
      ],
      "execution_count": null,
      "outputs": []
    },
    {
      "cell_type": "markdown",
      "metadata": {
        "id": "825hsaiDgj2U"
      },
      "source": [
        "Use this statement to generate a prediction vector of all values '1' useful to test performance with the Unblanced Digits dataset.\n",
        "\n"
      ]
    },
    {
      "cell_type": "code",
      "metadata": {
        "id": "M8ogH5F_hDO9"
      },
      "source": [
        "# Result of model that predicts only 1 (for unblanced digits)\n",
        "y_pred = np.ones(len(X_test))"
      ],
      "execution_count": null,
      "outputs": []
    },
    {
      "cell_type": "markdown",
      "metadata": {
        "id": "LfDeJb0Juofu"
      },
      "source": [
        "##Evaluate the Model\n",
        "\n",
        "Evaluation of a specific solution on the test set, comparing predicted values `y_pred` with test values `y_test`."
      ]
    },
    {
      "cell_type": "markdown",
      "metadata": {
        "id": "NKD7632rv-xZ"
      },
      "source": [
        "### Accuracy"
      ]
    },
    {
      "cell_type": "code",
      "metadata": {
        "id": "P0N3cUSazRcJ",
        "colab": {
          "base_uri": "https://localhost:8080/",
          "height": 34
        },
        "outputId": "2a540209-3b01-49de-eac6-b8871c9aaf79"
      },
      "source": [
        "acc = model.score(X_test, y_test)    \n",
        "print(\"Accuracy %.3f\" %acc)"
      ],
      "execution_count": null,
      "outputs": [
        {
          "output_type": "stream",
          "text": [
            "Accuracy 1.000\n"
          ],
          "name": "stdout"
        }
      ]
    },
    {
      "cell_type": "markdown",
      "metadata": {
        "id": "4zY5aEGWwMj1"
      },
      "source": [
        "###Precision & Recall\n",
        "\n",
        "Classification report contains more accurate performance information."
      ]
    },
    {
      "cell_type": "code",
      "metadata": {
        "id": "G2bdFwMhwLJN",
        "colab": {
          "base_uri": "https://localhost:8080/",
          "height": 224
        },
        "outputId": "13e1e6a4-f928-4132-92b2-6ed049861615"
      },
      "source": [
        "print(classification_report(y_test, y_pred, labels=None, target_names=class_names, digits=3))\n"
      ],
      "execution_count": null,
      "outputs": [
        {
          "output_type": "stream",
          "text": [
            "              precision    recall  f1-score   support\n",
            "\n",
            "           0      0.000     0.000     0.000        67\n",
            "           1      0.888     1.000     0.941       532\n",
            "\n",
            "    accuracy                          0.888       599\n",
            "   macro avg      0.444     0.500     0.470       599\n",
            "weighted avg      0.789     0.888     0.836       599\n",
            "\n"
          ],
          "name": "stdout"
        },
        {
          "output_type": "stream",
          "text": [
            "/usr/local/lib/python3.6/dist-packages/sklearn/metrics/_classification.py:1272: UndefinedMetricWarning: Precision and F-score are ill-defined and being set to 0.0 in labels with no predicted samples. Use `zero_division` parameter to control this behavior.\n",
            "  _warn_prf(average, modifier, msg_start, len(result))\n"
          ],
          "name": "stderr"
        }
      ]
    },
    {
      "cell_type": "markdown",
      "metadata": {
        "id": "q1EwWO9m3bGg"
      },
      "source": [
        "### Confusion Matrix\n",
        "\n",
        "Shows the results in a graphical form."
      ]
    },
    {
      "cell_type": "code",
      "metadata": {
        "id": "IGOYxPNzy3vy",
        "colab": {
          "base_uri": "https://localhost:8080/",
          "height": 348
        },
        "outputId": "82cefa36-fc4d-48c7-a0d3-30175cbb1a61"
      },
      "source": [
        "cm = confusion_matrix(y_test, y_pred, labels=None, sample_weight=None)\n",
        "print(cm)\n",
        "plot_confusion_matrix(y_test, y_pred, classes=class_names, normalize=False)"
      ],
      "execution_count": null,
      "outputs": [
        {
          "output_type": "stream",
          "text": [
            "[[  0  67]\n",
            " [  0 532]]\n"
          ],
          "name": "stdout"
        },
        {
          "output_type": "execute_result",
          "data": {
            "text/plain": [
              "<matplotlib.axes._subplots.AxesSubplot at 0x7fbf1de7b588>"
            ]
          },
          "metadata": {
            "tags": []
          },
          "execution_count": 18
        },
        {
          "output_type": "display_data",
          "data": {
            "image/png": "[encoded data removed]",
            "text/plain": [
              "<Figure size 432x288 with 2 Axes>"
            ]
          },
          "metadata": {
            "tags": [],
            "needs_background": "light"
          }
        }
      ]
    },
    {
      "cell_type": "markdown",
      "metadata": {
        "id": "xFH2OgGotJ76"
      },
      "source": [
        "## Evaluate a specific instance of a method\n",
        "\n",
        "Evaluation of a specific method with instantiated hyper-parameters\n",
        "through Cross Validation\n",
        "\n"
      ]
    },
    {
      "cell_type": "code",
      "metadata": {
        "id": "IrxPaAovtV3z",
        "colab": {
          "base_uri": "https://localhost:8080/",
          "height": 731
        },
        "outputId": "24ac657a-ae2a-4b6b-c3e4-ccf2c3974a77"
      },
      "source": [
        "#K-Fold Cross Validation \n",
        "cv = ShuffleSplit(n_splits=5, test_size=0.333, random_state=15)\n",
        "scores = cross_val_score(model, X_all, y_all, cv=cv)\n",
        "print(scores)\n",
        "print(\"Accuracy: %0.3f (+/- %0.2f)\" % (scores.mean(), scores.std() * 2))"
      ],
      "execution_count": null,
      "outputs": [
        {
          "output_type": "stream",
          "text": [
            "[0.99499165 0.9966611  0.9966611  0.9966611  0.99833055]\n",
            "Accuracy: 0.997 (+/- 0.00)\n"
          ],
          "name": "stdout"
        },
        {
          "output_type": "stream",
          "text": [
            "/usr/local/lib/python3.6/dist-packages/sklearn/linear_model/_logistic.py:940: ConvergenceWarning: lbfgs failed to converge (status=1):\n",
            "STOP: TOTAL NO. of ITERATIONS REACHED LIMIT.\n",
            "\n",
            "Increase the number of iterations (max_iter) or scale the data as shown in:\n",
            "    https://scikit-learn.org/stable/modules/preprocessing.html\n",
            "Please also refer to the documentation for alternative solver options:\n",
            "    https://scikit-learn.org/stable/modules/linear_model.html#logistic-regression\n",
            "  extra_warning_msg=_LOGISTIC_SOLVER_CONVERGENCE_MSG)\n",
            "/usr/local/lib/python3.6/dist-packages/sklearn/linear_model/_logistic.py:940: ConvergenceWarning: lbfgs failed to converge (status=1):\n",
            "STOP: TOTAL NO. of ITERATIONS REACHED LIMIT.\n",
            "\n",
            "Increase the number of iterations (max_iter) or scale the data as shown in:\n",
            "    https://scikit-learn.org/stable/modules/preprocessing.html\n",
            "Please also refer to the documentation for alternative solver options:\n",
            "    https://scikit-learn.org/stable/modules/linear_model.html#logistic-regression\n",
            "  extra_warning_msg=_LOGISTIC_SOLVER_CONVERGENCE_MSG)\n",
            "/usr/local/lib/python3.6/dist-packages/sklearn/linear_model/_logistic.py:940: ConvergenceWarning: lbfgs failed to converge (status=1):\n",
            "STOP: TOTAL NO. of ITERATIONS REACHED LIMIT.\n",
            "\n",
            "Increase the number of iterations (max_iter) or scale the data as shown in:\n",
            "    https://scikit-learn.org/stable/modules/preprocessing.html\n",
            "Please also refer to the documentation for alternative solver options:\n",
            "    https://scikit-learn.org/stable/modules/linear_model.html#logistic-regression\n",
            "  extra_warning_msg=_LOGISTIC_SOLVER_CONVERGENCE_MSG)\n",
            "/usr/local/lib/python3.6/dist-packages/sklearn/linear_model/_logistic.py:940: ConvergenceWarning: lbfgs failed to converge (status=1):\n",
            "STOP: TOTAL NO. of ITERATIONS REACHED LIMIT.\n",
            "\n",
            "Increase the number of iterations (max_iter) or scale the data as shown in:\n",
            "    https://scikit-learn.org/stable/modules/preprocessing.html\n",
            "Please also refer to the documentation for alternative solver options:\n",
            "    https://scikit-learn.org/stable/modules/linear_model.html#logistic-regression\n",
            "  extra_warning_msg=_LOGISTIC_SOLVER_CONVERGENCE_MSG)\n",
            "/usr/local/lib/python3.6/dist-packages/sklearn/linear_model/_logistic.py:940: ConvergenceWarning: lbfgs failed to converge (status=1):\n",
            "STOP: TOTAL NO. of ITERATIONS REACHED LIMIT.\n",
            "\n",
            "Increase the number of iterations (max_iter) or scale the data as shown in:\n",
            "    https://scikit-learn.org/stable/modules/preprocessing.html\n",
            "Please also refer to the documentation for alternative solver options:\n",
            "    https://scikit-learn.org/stable/modules/linear_model.html#logistic-regression\n",
            "  extra_warning_msg=_LOGISTIC_SOLVER_CONVERGENCE_MSG)\n"
          ],
          "name": "stderr"
        }
      ]
    },
    {
      "cell_type": "markdown",
      "metadata": {
        "id": "0hVbM8WLrXMh"
      },
      "source": [
        "## Prediction of a new sample"
      ]
    },
    {
      "cell_type": "code",
      "metadata": {
        "id": "rIFijWnPrc2L",
        "colab": {
          "base_uri": "https://localhost:8080/",
          "height": 119
        },
        "outputId": "9e28df8e-e33e-4356-d882-a65064d7079e"
      },
      "source": [
        "if dataset_name == \"Iris\":\n",
        "  xnew = np.array([8.5, 2.6, 9.2, 0.3])\n",
        "elif dataset_name == \"Wines\":\n",
        "  xnew = np.array([12, 2.5, 2.6, 15, 186, 1.5, 9.1,\n",
        "                   0.44, 2.2, 5.6, 2.9, 3.7, 380])\n",
        "elif dataset_name == \"Digits\" or dataset_name == \"Digits_01_unbalanced\":\n",
        "   xnew = np.array([  \n",
        "        0,  0,  8, 13, 18, 13, 11,  1,  0, 10,  9,  4,  6,\n",
        "       16,  3,  0,  0,  0,  0, 10,  1, 13,  0,  0,  0,  0,\n",
        "        0,  7, 14,  2,  0,  0,  0,  0,  0,  7, 13,  1,  0,\n",
        "        0,  0,  0,  0,  0,  8, 13,  1,  0,  0,  0,  0,  0,\n",
        "       13,  6,  7,  1,  0,  0, 14, 12, 13,  1,  0,  0])\n",
        " \n",
        "xnew = xnew.reshape(1,-1)\n",
        " \n",
        "print(\"x_new = %r\" %(xnew))\n",
        "ynew = model.predict(xnew)\n",
        "print(\"y_pred = %d %s\" %(ynew,class_names[ynew]))\n",
        " \n",
        "mconf = np.max(model.predict_proba(xnew))\n",
        "print(\"Confidence: %.2f\" %(mconf))"
      ],
      "execution_count": null,
      "outputs": [
        {
          "output_type": "stream",
          "text": [
            "x_new = array([[ 0,  0,  8, 13, 18, 13, 11,  1,  0, 10,  9,  4,  6, 16,  3,  0,\n",
            "         0,  0,  0, 10,  1, 13,  0,  0,  0,  0,  0,  7, 14,  2,  0,  0,\n",
            "         0,  0,  0,  7, 13,  1,  0,  0,  0,  0,  0,  0,  8, 13,  1,  0,\n",
            "         0,  0,  0,  0, 13,  6,  7,  1,  0,  0, 14, 12, 13,  1,  0,  0]])\n",
            "y_pred = 1 ['1']\n",
            "Confidence: 1.00\n"
          ],
          "name": "stdout"
        }
      ]
    },
    {
      "cell_type": "markdown",
      "metadata": {
        "id": "66VfEN_m6lVJ"
      },
      "source": [
        "##Common Mistake\n",
        "\n",
        "Evaluate solution on data used for training!!!\n"
      ]
    },
    {
      "cell_type": "code",
      "metadata": {
        "id": "R1PgiDeh6j4m",
        "colab": {
          "base_uri": "https://localhost:8080/",
          "height": 34
        },
        "outputId": "0f9684cc-ec02-4673-fc58-d75c5a0f3555"
      },
      "source": [
        "model.score(X_all,y_all)"
      ],
      "execution_count": null,
      "outputs": [
        {
          "output_type": "execute_result",
          "data": {
            "text/plain": [
              "1.0"
            ]
          },
          "metadata": {
            "tags": []
          },
          "execution_count": 21
        }
      ]
    },
    {
      "cell_type": "markdown",
      "metadata": {
        "id": "a-aJYM3JXRyN"
      },
      "source": [
        "## Home Exercises\n",
        "\n",
        "**Question 1**\n",
        "\n",
        "Design an evaluation procedure to assess and compare the different performance of each classifcation models seen above on the Digits dataset\n",
        "\n",
        "**Question 2** \n",
        "\n",
        "Consider the Unbalanced Digits dataset and compare one of the above classification method with the classifier that always returns the most common label in the dataset. Which performance metrics are significant in this comparison?\n",
        "\n",
        "  \n",
        "  \n"
      ]
    }
  ]
}